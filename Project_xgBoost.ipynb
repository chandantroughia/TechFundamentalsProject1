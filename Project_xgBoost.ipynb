{
 "cells": [
  {
   "cell_type": "code",
   "execution_count": 1,
   "metadata": {},
   "outputs": [
    {
     "name": "stderr",
     "output_type": "stream",
     "text": [
      "/Users/chandantroughia/anaconda/lib/python3.6/site-packages/sklearn/cross_validation.py:41: DeprecationWarning: This module was deprecated in version 0.18 in favor of the model_selection module into which all the refactored classes and functions are moved. Also note that the interface of the new CV iterators are different from that of this module. This module will be removed in 0.20.\n",
      "  \"This module will be removed in 0.20.\", DeprecationWarning)\n"
     ]
    }
   ],
   "source": [
    "import pandas as pd\n",
    "from sklearn.metrics import accuracy_score\n",
    "import xgboost as xgb\n",
    "\n",
    "\n",
    "\n",
    "train = pd.read_csv(\"train.csv\")\n",
    "test = pd.read_csv(\"test.csv\")\n",
    "\n",
    "all_ids = test['id']\n",
    "main_test = test.drop(['id'], axis = 1)"
   ]
  },
  {
   "cell_type": "code",
   "execution_count": 2,
   "metadata": {},
   "outputs": [],
   "source": [
    "#Validation Dataset\n",
    "x_train = train[:400000]\n",
    "x_train_target = x_train['target']\n",
    "x_train = x_train.drop(['id','target'], axis = 1)\n",
    "\n",
    "\n",
    "y_test = train[400000:]\n",
    "y_test_target = y_test['target']\n",
    "y_test = train[400000:].drop(['id','target'], axis = 1)\n",
    "\n"
   ]
  },
  {
   "cell_type": "code",
   "execution_count": 3,
   "metadata": {},
   "outputs": [],
   "source": [
    "#convert data to xgboost format\n",
    "main_test = xgb.DMatrix(main_test)\n",
    "training = xgb.DMatrix(x_train, x_train_target)\n",
    "validation = xgb.DMatrix(y_test, y_test_target)"
   ]
  },
  {
   "cell_type": "code",
   "execution_count": 4,
   "metadata": {},
   "outputs": [],
   "source": [
    "# Set xgboost parameters\n",
    "param = {'max_depth': 6, 'eta': 1, 'silent': 1, 'objective': 'binary:logistic', 'colsample_bytree': 0.9, 'subsample': 0.9}\n",
    "\n",
    "#Specify validations set to watch performance\n",
    "evallist = [(training, 'train'), (validation, 'valid')]"
   ]
  },
  {
   "cell_type": "code",
   "execution_count": 5,
   "metadata": {},
   "outputs": [
    {
     "name": "stdout",
     "output_type": "stream",
     "text": [
      "[0]\ttrain-error:0.036365\tvalid-error:0.03657\n",
      "Multiple eval metrics have been passed: 'valid-error' will be used for early stopping.\n",
      "\n",
      "Will train until valid-error hasn't improved in 10 rounds.\n",
      "[1]\ttrain-error:0.036378\tvalid-error:0.036576\n",
      "[2]\ttrain-error:0.03643\tvalid-error:0.036714\n",
      "[3]\ttrain-error:0.036403\tvalid-error:0.036714\n",
      "[4]\ttrain-error:0.036408\tvalid-error:0.03677\n",
      "[5]\ttrain-error:0.03644\tvalid-error:0.036852\n",
      "[6]\ttrain-error:0.036435\tvalid-error:0.036873\n",
      "[7]\ttrain-error:0.036378\tvalid-error:0.036965\n",
      "[8]\ttrain-error:0.036375\tvalid-error:0.03717\n",
      "[9]\ttrain-error:0.036305\tvalid-error:0.037175\n",
      "[10]\ttrain-error:0.03639\tvalid-error:0.037354\n",
      "[11]\ttrain-error:0.036353\tvalid-error:0.037446\n",
      "[12]\ttrain-error:0.036395\tvalid-error:0.037575\n",
      "[13]\ttrain-error:0.036353\tvalid-error:0.037626\n",
      "[14]\ttrain-error:0.036288\tvalid-error:0.037636\n",
      "[15]\ttrain-error:0.036295\tvalid-error:0.037718\n",
      "[16]\ttrain-error:0.036265\tvalid-error:0.037738\n",
      "[17]\ttrain-error:0.03624\tvalid-error:0.03781\n",
      "[18]\ttrain-error:0.036235\tvalid-error:0.037887\n",
      "[19]\ttrain-error:0.0363\tvalid-error:0.038051\n",
      "[20]\ttrain-error:0.036242\tvalid-error:0.038036\n",
      "[21]\ttrain-error:0.03621\tvalid-error:0.038051\n",
      "[22]\ttrain-error:0.036197\tvalid-error:0.038138\n",
      "[23]\ttrain-error:0.036157\tvalid-error:0.038266\n",
      "[24]\ttrain-error:0.036153\tvalid-error:0.038456\n",
      "[25]\ttrain-error:0.0361\tvalid-error:0.038451\n",
      "[26]\ttrain-error:0.03608\tvalid-error:0.038466\n",
      "[27]\ttrain-error:0.036075\tvalid-error:0.038573\n",
      "[28]\ttrain-error:0.036068\tvalid-error:0.038645\n",
      "[29]\ttrain-error:0.036068\tvalid-error:0.038748\n",
      "[30]\ttrain-error:0.036025\tvalid-error:0.038722\n",
      "[31]\ttrain-error:0.03606\tvalid-error:0.038891\n",
      "[32]\ttrain-error:0.03603\tvalid-error:0.038896\n",
      "[33]\ttrain-error:0.03609\tvalid-error:0.038978\n",
      "[34]\ttrain-error:0.036013\tvalid-error:0.038912\n",
      "[35]\ttrain-error:0.035972\tvalid-error:0.039116\n",
      "[36]\ttrain-error:0.035885\tvalid-error:0.039122\n",
      "[37]\ttrain-error:0.03582\tvalid-error:0.039137\n",
      "[38]\ttrain-error:0.03583\tvalid-error:0.039193\n",
      "[39]\ttrain-error:0.03583\tvalid-error:0.039321\n",
      "[40]\ttrain-error:0.035778\tvalid-error:0.039229\n",
      "[41]\ttrain-error:0.03578\tvalid-error:0.039326\n",
      "[42]\ttrain-error:0.035703\tvalid-error:0.039408\n",
      "[43]\ttrain-error:0.035698\tvalid-error:0.039496\n",
      "[44]\ttrain-error:0.035695\tvalid-error:0.039485\n",
      "[45]\ttrain-error:0.035678\tvalid-error:0.039485\n",
      "[46]\ttrain-error:0.035575\tvalid-error:0.039521\n",
      "[47]\ttrain-error:0.035547\tvalid-error:0.039521\n",
      "[48]\ttrain-error:0.035435\tvalid-error:0.039777\n",
      "[49]\ttrain-error:0.035285\tvalid-error:0.039706\n",
      "[50]\ttrain-error:0.035257\tvalid-error:0.039788\n",
      "[51]\ttrain-error:0.03512\tvalid-error:0.039736\n",
      "[52]\ttrain-error:0.035037\tvalid-error:0.039921\n",
      "[53]\ttrain-error:0.03501\tvalid-error:0.039921\n",
      "[54]\ttrain-error:0.034982\tvalid-error:0.039992\n",
      "[55]\ttrain-error:0.03496\tvalid-error:0.040095\n",
      "[56]\ttrain-error:0.03492\tvalid-error:0.040069\n",
      "[57]\ttrain-error:0.034875\tvalid-error:0.040054\n",
      "[58]\ttrain-error:0.034867\tvalid-error:0.040325\n",
      "[59]\ttrain-error:0.034803\tvalid-error:0.040346\n",
      "[60]\ttrain-error:0.03477\tvalid-error:0.040361\n",
      "[61]\ttrain-error:0.03473\tvalid-error:0.040356\n",
      "[62]\ttrain-error:0.034692\tvalid-error:0.040366\n",
      "[63]\ttrain-error:0.034675\tvalid-error:0.040387\n",
      "[64]\ttrain-error:0.034663\tvalid-error:0.040443\n",
      "[65]\ttrain-error:0.03461\tvalid-error:0.040525\n",
      "[66]\ttrain-error:0.034573\tvalid-error:0.040489\n",
      "[67]\ttrain-error:0.03452\tvalid-error:0.040561\n",
      "[68]\ttrain-error:0.034458\tvalid-error:0.040525\n",
      "[69]\ttrain-error:0.034392\tvalid-error:0.04074\n",
      "[70]\ttrain-error:0.034445\tvalid-error:0.040674\n",
      "[71]\ttrain-error:0.034412\tvalid-error:0.040756\n",
      "[72]\ttrain-error:0.034343\tvalid-error:0.040792\n",
      "[73]\ttrain-error:0.034302\tvalid-error:0.040945\n",
      "[74]\ttrain-error:0.034187\tvalid-error:0.041037\n",
      "[75]\ttrain-error:0.034155\tvalid-error:0.041084\n",
      "[76]\ttrain-error:0.034162\tvalid-error:0.041247\n",
      "[77]\ttrain-error:0.034095\tvalid-error:0.041186\n",
      "[78]\ttrain-error:0.034055\tvalid-error:0.041299\n",
      "[79]\ttrain-error:0.034027\tvalid-error:0.041206\n",
      "[80]\ttrain-error:0.03398\tvalid-error:0.041273\n",
      "[81]\ttrain-error:0.033985\tvalid-error:0.041314\n",
      "[82]\ttrain-error:0.0339\tvalid-error:0.041504\n",
      "[83]\ttrain-error:0.033935\tvalid-error:0.041683\n",
      "[84]\ttrain-error:0.033882\tvalid-error:0.041673\n",
      "[85]\ttrain-error:0.033765\tvalid-error:0.041673\n",
      "[86]\ttrain-error:0.033755\tvalid-error:0.041637\n",
      "[87]\ttrain-error:0.033712\tvalid-error:0.041714\n",
      "[88]\ttrain-error:0.033675\tvalid-error:0.041698\n",
      "[89]\ttrain-error:0.03366\tvalid-error:0.041755\n",
      "[90]\ttrain-error:0.033553\tvalid-error:0.04179\n",
      "[91]\ttrain-error:0.033503\tvalid-error:0.041775\n",
      "[92]\ttrain-error:0.033432\tvalid-error:0.041842\n",
      "[93]\ttrain-error:0.03344\tvalid-error:0.041944\n",
      "[94]\ttrain-error:0.03331\tvalid-error:0.042041\n",
      "[95]\ttrain-error:0.03333\tvalid-error:0.041975\n",
      "[96]\ttrain-error:0.03328\tvalid-error:0.042041\n",
      "[97]\ttrain-error:0.03326\tvalid-error:0.042036\n",
      "[98]\ttrain-error:0.033248\tvalid-error:0.042047\n",
      "[99]\ttrain-error:0.033188\tvalid-error:0.042252\n"
     ]
    }
   ],
   "source": [
    "#training and prediction\n",
    "bst = xgb.train(param, training, 100, evallist, early_stopping_rounds = 10,maximize = True)\n",
    "prediction = bst.predict(main_test)"
   ]
  },
  {
   "cell_type": "code",
   "execution_count": 6,
   "metadata": {},
   "outputs": [
    {
     "name": "stdout",
     "output_type": "stream",
     "text": [
      "   id  target\n",
      "0   0     0.0\n",
      "1   1     0.0\n",
      "2   2     0.0\n",
      "3   3     0.0\n",
      "4   4     0.0\n"
     ]
    }
   ],
   "source": [
    "for i in range(len(prediction)):\n",
    "    prediction[i] = round(prediction[i])\n",
    "\n",
    "\n",
    "sub = pd.DataFrame()\n",
    "sub['id'] = all_ids\n",
    "sub['target'] = prediction\n",
    "#sub.to_csv('xgbPredictions.csv', index=False)\n",
    "print(sub.head())"
   ]
  },
  {
   "cell_type": "code",
   "execution_count": null,
   "metadata": {},
   "outputs": [],
   "source": []
  }
 ],
 "metadata": {
  "kernelspec": {
   "display_name": "Python (whatever you want to call it)",
   "language": "python",
   "name": "envname"
  },
  "language_info": {
   "codemirror_mode": {
    "name": "ipython",
    "version": 3
   },
   "file_extension": ".py",
   "mimetype": "text/x-python",
   "name": "python",
   "nbconvert_exporter": "python",
   "pygments_lexer": "ipython3",
   "version": "3.6.1"
  }
 },
 "nbformat": 4,
 "nbformat_minor": 2
}
